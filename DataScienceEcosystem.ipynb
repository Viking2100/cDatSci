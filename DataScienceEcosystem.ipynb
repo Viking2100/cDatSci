{
 "cells": [
  {
   "cell_type": "markdown",
   "id": "69fb8148-0d90-41b6-8a6b-df96ff0e33cd",
   "metadata": {},
   "source": [
    "# Data Science Tools and Ecosystem"
   ]
  },
  {
   "cell_type": "markdown",
   "id": "2bdbaf2c-eeef-4ce8-8d99-e8746d34fa84",
   "metadata": {},
   "source": [
    "In this notebook, Data Science Tools and Ecosystem are summarized."
   ]
  },
  {
   "cell_type": "markdown",
   "id": "b8381223-c822-44a5-bedb-f6ad899c832b",
   "metadata": {},
   "source": [
    "**Objectives:**\n",
    "- List popular languages for Data Science\n",
    "- List popular libraries for Data Science\n",
    "- Write arithmetic expressions in Python"
   ]
  },
  {
   "cell_type": "markdown",
   "id": "30b01c6f-3d52-46a2-ae50-6c274382d93c",
   "metadata": {},
   "source": [
    "Some of the popular languages that Data Scientists use are:\n",
    "1. Julia\n",
    "2. Python\n",
    "3. R"
   ]
  },
  {
   "cell_type": "markdown",
   "id": "e7fbac23-382d-4670-b8f3-43ab342d06f9",
   "metadata": {},
   "source": [
    "Some of the commonly used libraries used by Data Scientists include:\n",
    "1. Numpy\n",
    "2. Matplotlib\n",
    "3. Seaborn"
   ]
  },
  {
   "cell_type": "markdown",
   "id": "a22848a8-919d-476d-8d74-8409c23ba8af",
   "metadata": {},
   "source": [
    "|Data Science Tools|\n",
    "|-------------------|\n",
    "|Jupyter Notebook|\n",
    "|JupyterLab|\n",
    "|R Studio|\n"
   ]
  },
  {
   "cell_type": "markdown",
   "id": "02fc6b54-15dd-4330-a364-e8899dd8393d",
   "metadata": {},
   "source": [
    "### Below are a few examples of evaluating arithmetic expressions in Python"
   ]
  },
  {
   "cell_type": "code",
   "execution_count": 3,
   "id": "06e6d1d7-98b0-47cc-8309-e4717e85228d",
   "metadata": {},
   "outputs": [
    {
     "name": "stdout",
     "output_type": "stream",
     "text": [
      "17\n"
     ]
    }
   ],
   "source": [
    "#This a simple arithmetic expression to mutiply then add integers\n",
    "a=(3*4)+5\n",
    "print(a)"
   ]
  },
  {
   "cell_type": "code",
   "execution_count": 5,
   "id": "b88f0248-be0f-458b-9fcf-efa12845fe83",
   "metadata": {},
   "outputs": [
    {
     "name": "stdout",
     "output_type": "stream",
     "text": [
      "200 minutes is equivalent to 3.3333333333333335 minutes\n"
     ]
    }
   ],
   "source": [
    "# This will convert 200 minutes to hours by diving by 60\n",
    "b = 200/60\n",
    "print(\"200 minutes is equivalent to\", b,\"minutes\")"
   ]
  },
  {
   "cell_type": "markdown",
   "id": "d529a9d7-8c61-4770-8b07-c5ac7024db1a",
   "metadata": {},
   "source": [
    "## Author\n",
    "Victor Afolabi"
   ]
  },
  {
   "cell_type": "code",
   "execution_count": null,
   "id": "84bb0783-0d3b-4ec5-8faf-85bcf9625874",
   "metadata": {},
   "outputs": [],
   "source": []
  }
 ],
 "metadata": {
  "kernelspec": {
   "display_name": "Python 3 (ipykernel)",
   "language": "python",
   "name": "python3"
  },
  "language_info": {
   "codemirror_mode": {
    "name": "ipython",
    "version": 3
   },
   "file_extension": ".py",
   "mimetype": "text/x-python",
   "name": "python",
   "nbconvert_exporter": "python",
   "pygments_lexer": "ipython3",
   "version": "3.12.7"
  }
 },
 "nbformat": 4,
 "nbformat_minor": 5
}
